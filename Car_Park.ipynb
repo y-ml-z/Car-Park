{
  "nbformat": 4,
  "nbformat_minor": 0,
  "metadata": {
    "kernelspec": {
      "display_name": "Python 3",
      "language": "python",
      "name": "python3"
    },
    "language_info": {
      "codemirror_mode": {
        "name": "ipython",
        "version": 3
      },
      "file_extension": ".py",
      "mimetype": "text/x-python",
      "name": "python",
      "nbconvert_exporter": "python",
      "pygments_lexer": "ipython3",
      "version": "3.7.1"
    },
    "colab": {
      "name": "Car Park.ipynb",
      "provenance": []
    }
  },
  "cells": [
    {
      "cell_type": "markdown",
      "metadata": {
        "id": "8s3nMsNfI5DC",
        "colab_type": "text"
      },
      "source": [
        "## Car Park\n",
        "\n",
        "The city's street parking system, which charges a fixed rate, is struggling to keep up with the increased demand. => modify the pricing scheme to better promote social welfare. \n",
        "- one spot is left unoccupied (so that it is available in case someone really needs it).\n",
        "- Markov decision process (MDP) to model the demand for parking with a reward function that reflects its preferences."
      ]
    },
    {
      "cell_type": "code",
      "metadata": {
        "id": "sBLQXbWII8dg",
        "colab_type": "code",
        "colab": {}
      },
      "source": [
        "import numpy as np\n",
        "import matplotlib.pyplot as plt\n",
        "from matplotlib.ticker import MaxNLocator, AutoMinorLocator\n",
        "from mpl_toolkits.axes_grid1 import make_axes_locatable\n",
        "from IPython import display\n",
        "import time\n",
        "import json\n",
        "from copy import deepcopy\n",
        "class CarPark:\n",
        "    def __init__(self,\n",
        "                 num_spaces=10,\n",
        "                 num_prices=4,\n",
        "                 price_factor=0.1,\n",
        "                 occupants_factor=1.0,\n",
        "                 null_factor=1 / 3):\n",
        "        self.__num_spaces = num_spaces\n",
        "        self.__num_prices = num_prices\n",
        "        self.__occupants_factor = occupants_factor\n",
        "        self.__price_factor = price_factor\n",
        "        self.__null_factor = null_factor\n",
        "        self.__S = [num_occupied for num_occupied in range(num_spaces + 1)]\n",
        "        self.__A = list(range(num_prices))\n",
        "\n",
        "\n",
        "    def transitions(self, s, a):\n",
        "        return np.array([[r, self.p(s_, r, s, a)] for s_, r in self.support(s, a)])\n",
        "\n",
        "    def support(self, s, a):\n",
        "        return [(s_, self.reward(s, s_)) for s_ in self.__S]\n",
        "\n",
        "    def p(self, s_, r, s, a):\n",
        "        if r != self.reward(s, s_):\n",
        "            return 0\n",
        "        else:\n",
        "            center = (1 - self.__price_factor\n",
        "                      ) * s + self.__price_factor * self.__num_spaces * (\n",
        "                          1 - a / self.__num_prices)\n",
        "            emphasis = np.exp(\n",
        "                -abs(np.arange(2 * self.__num_spaces) - center) / 5)\n",
        "            if s_ == self.__num_spaces:\n",
        "                return sum(emphasis[s_:]) / sum(emphasis)\n",
        "            return emphasis[s_] / sum(emphasis)\n",
        "\n",
        "    def reward(self, s, s_):\n",
        "        return self.state_reward(s) + self.state_reward(s_)\n",
        "\n",
        "    def state_reward(self, s):\n",
        "        if s == self.__num_spaces:\n",
        "            return self.__null_factor * s * self.__occupants_factor\n",
        "        else:\n",
        "            return s * self.__occupants_factor\n",
        "\n",
        "    def random_state(self):\n",
        "        return np.random.randint(self.__num_prices)\n",
        "\n",
        "    def step(self, s, a):\n",
        "        probabilities = [\n",
        "            self.p(s_, self.reward(s, s_), s, a) for s_ in self.__S\n",
        "        ]\n",
        "        return np.random.choice(self.__S, p=probabilities)\n",
        "\n",
        "    @property\n",
        "    def A(self):\n",
        "        return list(self.__A)\n",
        "\n",
        "    @property\n",
        "    def num_spaces(self):\n",
        "        return self.__num_spaces\n",
        "\n",
        "    @property\n",
        "    def num_prices(self):\n",
        "        return self.num_prices\n",
        "\n",
        "    @property\n",
        "    def S(self):\n",
        "        return list(self.__S)\n",
        "\n",
        "\n",
        "class Transitions(list):\n",
        "    def __init__(self, transitions):\n",
        "        self.__transitions = transitions\n",
        "        super().__init__(transitions)\n",
        "\n",
        "    def __repr__(self):\n",
        "        repr = '{:<14} {:<10} {:<10}'.format('Next State', 'Reward',\n",
        "                                             'Probability')\n",
        "        repr += '\\n'\n",
        "        for i, (s, r, p) in enumerate(self.__transitions):\n",
        "            repr += '{:<14} {:<10} {:<10}'.format(s, round(r, 2), round(p, 2))\n",
        "            if i != len(self.__transitions) - 1:\n",
        "                repr += '\\n'\n",
        "        return repr"
      ],
      "execution_count": 0,
      "outputs": []
    },
    {
      "cell_type": "code",
      "metadata": {
        "id": "DfW5Tp_2I5DE",
        "colab_type": "code",
        "colab": {}
      },
      "source": [
        "%%capture\n",
        "%matplotlib inline\n",
        "import numpy as np\n",
        "import pickle"
      ],
      "execution_count": 0,
      "outputs": []
    },
    {
      "cell_type": "code",
      "metadata": {
        "id": "lkqICWX6I5DQ",
        "colab_type": "code",
        "colab": {}
      },
      "source": [
        "num_spaces = 3\n",
        "num_prices = 3\n",
        "env = CarPark(num_spaces, num_prices)\n",
        "V = np.zeros(num_spaces + 1)\n",
        "pi = np.ones((num_spaces + 1, num_prices)) / num_prices"
      ],
      "execution_count": 0,
      "outputs": []
    },
    {
      "cell_type": "markdown",
      "metadata": {
        "id": "u2J_8PduI5DU",
        "colab_type": "text"
      },
      "source": [
        "The value function is a one-dimensional array where the $i$-th entry gives the value of $i$ spaces being occupied."
      ]
    },
    {
      "cell_type": "code",
      "metadata": {
        "id": "d5OXYLHDI5DV",
        "colab_type": "code",
        "colab": {
          "base_uri": "https://localhost:8080/",
          "height": 34
        },
        "outputId": "b25b6686-bca5-46f1-c1f2-5fc0f3622123"
      },
      "source": [
        "V"
      ],
      "execution_count": 5,
      "outputs": [
        {
          "output_type": "execute_result",
          "data": {
            "text/plain": [
              "array([0., 0., 0., 0.])"
            ]
          },
          "metadata": {
            "tags": []
          },
          "execution_count": 5
        }
      ]
    },
    {
      "cell_type": "code",
      "metadata": {
        "id": "uUiyyA6BI5Db",
        "colab_type": "code",
        "colab": {},
        "outputId": "97e1a369-afe5-4a73-d1ec-bd0cd781a999"
      },
      "source": [
        "state = 0\n",
        "V[state]"
      ],
      "execution_count": 0,
      "outputs": [
        {
          "output_type": "execute_result",
          "data": {
            "text/plain": [
              "0.0"
            ]
          },
          "metadata": {
            "tags": []
          },
          "execution_count": 4
        }
      ]
    },
    {
      "cell_type": "code",
      "metadata": {
        "id": "a2G24MNyI5Do",
        "colab_type": "code",
        "colab": {},
        "outputId": "072edaad-3371-4cd1-8970-c5193cd01310"
      },
      "source": [
        "state = 0\n",
        "value = 10\n",
        "V[state] = value\n",
        "V"
      ],
      "execution_count": 0,
      "outputs": [
        {
          "output_type": "execute_result",
          "data": {
            "text/plain": [
              "array([10.,  0.,  0.,  0.])"
            ]
          },
          "metadata": {
            "tags": []
          },
          "execution_count": 5
        }
      ]
    },
    {
      "cell_type": "code",
      "metadata": {
        "id": "L_bcAgDuI5Dt",
        "colab_type": "code",
        "colab": {},
        "outputId": "56bc2d7f-b73b-4d5e-d2fb-9664b6465a2b"
      },
      "source": [
        "for s, v in enumerate(V):\n",
        "    print(f'State {s} has value {v}')"
      ],
      "execution_count": 0,
      "outputs": [
        {
          "output_type": "stream",
          "text": [
            "State 0 has value 10.0\n",
            "State 1 has value 0.0\n",
            "State 2 has value 0.0\n",
            "State 3 has value 0.0\n"
          ],
          "name": "stdout"
        }
      ]
    },
    {
      "cell_type": "markdown",
      "metadata": {
        "id": "CJ2qzjp4I5Dz",
        "colab_type": "text"
      },
      "source": [
        "## Policy Evaluation\n",
        "\n",
        "First, Evaluate the quality of the existing pricing scheme. Policy evaluation works by iteratively applying the Bellman equation for $v_{\\pi}$ to a working value function, as an update rule, as shown below.\n",
        "\n",
        "$$\\large v(s) \\leftarrow \\sum_a \\pi(a | s) \\sum_{s', r} p(s', r | s, a)[r + \\gamma v(s')]$$\n",
        "This update can either occur \"in-place\" (i.e. the update rule is sequentially applied to each state) or with \"two-arrays\" (i.e. the update rule is simultaneously applied to each state). Both versions converge to $v_{\\pi}$  \n",
        " \n",
        " "
      ]
    },
    {
      "cell_type": "code",
      "metadata": {
        "id": "aWOxQ0PQI5D1",
        "colab_type": "code",
        "colab": {}
      },
      "source": [
        "def evaluate_policy(env, V, pi, gamma, theta):\n",
        "    while True:\n",
        "        delta = 0\n",
        "        for s in env.S:\n",
        "            v = V[s]\n",
        "            bellman_update(env, V, pi, s, gamma)\n",
        "            delta = max(delta, abs(v - V[s]))\n",
        "        if delta < theta:\n",
        "            break\n",
        "    return V"
      ],
      "execution_count": 0,
      "outputs": []
    },
    {
      "cell_type": "code",
      "metadata": {
        "id": "2PuIzkdFI5D5",
        "colab_type": "code",
        "colab": {}
      },
      "source": [
        "def bellman_update(env, V, pi, s, gamma):\n",
        "    v = 0\n",
        "    for a in env.A:\n",
        "        for s_, (r, p) in enumerate(env.transitions(s, a)):\n",
        "            v += pi[s][a] * p * (r + gamma * V[s_])\n",
        "    V[s] = v"
      ],
      "execution_count": 0,
      "outputs": []
    },
    {
      "cell_type": "code",
      "metadata": {
        "id": "rJwrAnlLI5D8",
        "colab_type": "code",
        "colab": {},
        "outputId": "fb21c87b-42fa-4629-8e25-8104c7940d67"
      },
      "source": [
        "%reset_selective -f \"^num_spaces$|^num_prices$|^env$|^V$|^pi$|^gamma$|^theta$\"\n",
        "num_spaces = 10\n",
        "num_prices = 4\n",
        "env = CarPark(num_spaces, num_prices)\n",
        "V = np.zeros(num_spaces + 1)\n",
        "city_policy = np.zeros((num_spaces + 1, num_prices))\n",
        "city_policy[:, 1] = 1\n",
        "gamma = 0.9\n",
        "theta = 0.1\n",
        "V = evaluate_policy(env, V, city_policy, gamma, theta)\n",
        "tools.plot(V, city_policy)"
      ],
      "execution_count": 0,
      "outputs": [
        {
          "output_type": "display_data",
          "data": {
            "image/png": "[encoded data removed]",
            "text/plain": [
              "<Figure size 900x360 with 3 Axes>"
            ]
          },
          "metadata": {
            "tags": []
          }
        }
      ]
    },
    {
      "cell_type": "markdown",
      "metadata": {
        "id": "lJS3XmxdI5EC",
        "colab_type": "text"
      },
      "source": [
        "The output (rounded to one decimal place) against the answer below:<br>\n",
        "State $\\quad\\quad$    Value<br>\n",
        "0 $\\quad\\quad\\quad\\;$        80.0<br>\n",
        "1 $\\quad\\quad\\quad\\;$        81.7<br>\n",
        "2 $\\quad\\quad\\quad\\;$        83.4<br>\n",
        "3 $\\quad\\quad\\quad\\;$        85.1<br>\n",
        "4 $\\quad\\quad\\quad\\;$        86.9<br>\n",
        "5 $\\quad\\quad\\quad\\;$        88.6<br>\n",
        "6 $\\quad\\quad\\quad\\;$        90.1<br>\n",
        "7 $\\quad\\quad\\quad\\;$        91.6<br>\n",
        "8 $\\quad\\quad\\quad\\;$        92.8<br>\n",
        "9 $\\quad\\quad\\quad\\;$        93.8<br>\n",
        "10 $\\quad\\quad\\;\\;\\,\\,$       87.8<br>"
      ]
    },
    {
      "cell_type": "markdown",
      "metadata": {
        "id": "gLyEMflLI5ED",
        "colab_type": "text"
      },
      "source": [
        "## Policy Iteration\n",
        "Compute a more efficient policy using policy iteration. Policy iteration works by alternating between evaluating the existing policy and making the policy greedy with respect to the existing value function. "
      ]
    },
    {
      "cell_type": "code",
      "metadata": {
        "id": "iEMDNejOI5ED",
        "colab_type": "code",
        "colab": {}
      },
      "source": [
        "def improve_policy(env, V, pi, gamma):\n",
        "    policy_stable = True\n",
        "    for s in env.S:\n",
        "        old = pi[s].copy()\n",
        "        q_greedify_policy(env, V, pi, s, gamma)\n",
        "        if not np.array_equal(pi[s], old):\n",
        "            policy_stable = False\n",
        "    return pi, policy_stable\n",
        "\n",
        "def policy_iteration(env, gamma, theta):\n",
        "    V = np.zeros(len(env.S))\n",
        "    pi = np.ones((len(env.S), len(env.A))) / len(env.A)\n",
        "    policy_stable = False\n",
        "    while not policy_stable:\n",
        "        V = evaluate_policy(env, V, pi, gamma, theta)\n",
        "        pi, policy_stable = improve_policy(env, V, pi, gamma)\n",
        "    return V, pi"
      ],
      "execution_count": 0,
      "outputs": []
    },
    {
      "cell_type": "code",
      "metadata": {
        "id": "FuxjV-6oI5EH",
        "colab_type": "code",
        "colab": {}
      },
      "source": [
        "def q_greedify_policy(env, V, pi, s, gamma):\n",
        "    v_opt = float('-inf')\n",
        "    a_opt = 0\n",
        "    for a in env.A:\n",
        "        transitions = env.transitions(s,a)\n",
        "        v_s = 0\n",
        "        for s_ in env.S:\n",
        "            v_s += transitions[s_][1] * ( transitions[s_][0] + gamma * V[s_] )\n",
        "        if v_s > v_opt:\n",
        "            v_opt = v_s\n",
        "            a_opt = a\n",
        "    pi[s] = np.zeros_like(pi[s])\n",
        "    pi[s][a_opt] = 1"
      ],
      "execution_count": 0,
      "outputs": []
    },
    {
      "cell_type": "code",
      "metadata": {
        "id": "SWZdxaN-I5EM",
        "colab_type": "code",
        "colab": {},
        "outputId": "8c09ec91-723e-4888-cea3-b2061ca04e8e"
      },
      "source": [
        "%reset_selective -f \"^num_spaces$|^num_prices$|^env$|^V$|^pi$|^gamma$|^theta$\"\n",
        "env = CarPark(num_spaces=10, num_prices=4)\n",
        "gamma = 0.9\n",
        "theta = 0.1\n",
        "V, pi = policy_iteration(env, gamma, theta)\n",
        "tools.plot(V, pi)"
      ],
      "execution_count": 0,
      "outputs": [
        {
          "output_type": "display_data",
          "data": {
            "image/png": "[encoded data removed]",
            "text/plain": [
              "<Figure size 900x360 with 3 Axes>"
            ]
          },
          "metadata": {
            "tags": []
          }
        }
      ]
    },
    {
      "cell_type": "markdown",
      "metadata": {
        "id": "-Z0ZClP7I5ET",
        "colab_type": "text"
      },
      "source": [
        "The value function (rounded to one decimal place) and policy against the answer below:<br>\n",
        "State $\\quad\\quad$    Value $\\quad\\quad$ Action<br>\n",
        "0 $\\quad\\quad\\quad\\;$        81.6 $\\quad\\quad\\;$ 0<br>\n",
        "1 $\\quad\\quad\\quad\\;$        83.3 $\\quad\\quad\\;$ 0<br>\n",
        "2 $\\quad\\quad\\quad\\;$        85.0 $\\quad\\quad\\;$ 0<br>\n",
        "3 $\\quad\\quad\\quad\\;$        86.8 $\\quad\\quad\\;$ 0<br>\n",
        "4 $\\quad\\quad\\quad\\;$        88.5 $\\quad\\quad\\;$ 0<br>\n",
        "5 $\\quad\\quad\\quad\\;$        90.2 $\\quad\\quad\\;$ 0<br>\n",
        "6 $\\quad\\quad\\quad\\;$        91.7 $\\quad\\quad\\;$ 0<br>\n",
        "7 $\\quad\\quad\\quad\\;$        93.1 $\\quad\\quad\\;$ 0<br>\n",
        "8 $\\quad\\quad\\quad\\;$        94.3 $\\quad\\quad\\;$ 0<br>\n",
        "9 $\\quad\\quad\\quad\\;$        95.3 $\\quad\\quad\\;$ 3<br>\n",
        "10 $\\quad\\quad\\;\\;\\,\\,$      89.5 $\\quad\\quad\\;$ 3<br>"
      ]
    },
    {
      "cell_type": "markdown",
      "metadata": {
        "id": "_RFRnr5fI5ET",
        "colab_type": "text"
      },
      "source": [
        "## Value Iteration\n",
        "Value iteration works by iteratively applying the Bellman optimality equation for $v_{\\ast}$ to a working value function, as an update rule, as shown below.\n",
        "\n",
        "$$\\large v(s) \\leftarrow \\max_a \\sum_{s', r} p(s', r | s, a)[r + \\gamma v(s')]$$"
      ]
    },
    {
      "cell_type": "code",
      "metadata": {
        "id": "fzjdAedZI5EU",
        "colab_type": "code",
        "colab": {}
      },
      "source": [
        "def value_iteration(env, gamma, theta):\n",
        "    V = np.zeros(len(env.S))\n",
        "    while True:\n",
        "        delta = 0\n",
        "        for s in env.S:\n",
        "            v = V[s]\n",
        "            bellman_optimality_update(env, V, s, gamma)\n",
        "            delta = max(delta, abs(v - V[s]))\n",
        "        if delta < theta:\n",
        "            break\n",
        "    pi = np.ones((len(env.S), len(env.A))) / len(env.A)\n",
        "    for s in env.S:\n",
        "        q_greedify_policy(env, V, pi, s, gamma)\n",
        "    return V, pi"
      ],
      "execution_count": 0,
      "outputs": []
    },
    {
      "cell_type": "code",
      "metadata": {
        "id": "VC5Fn75AI5EX",
        "colab_type": "code",
        "colab": {}
      },
      "source": [
        "def bellman_optimality_update(env, V, s, gamma):\n",
        "    V_s_opt = - float('inf')\n",
        "    for a in env.A:\n",
        "        transitions = env.transitions(s, a)\n",
        "        v_s = 0\n",
        "        for s_, (r, p) in enumerate(transitions):\n",
        "            v_s += p * (r + gamma * V[s_])\n",
        "        if V_s_opt < v_s:\n",
        "            V_s_opt = v_s\n",
        "    V[s] = V_s_opt"
      ],
      "execution_count": 0,
      "outputs": []
    },
    {
      "cell_type": "code",
      "metadata": {
        "id": "4BF5ZiFdI5Ea",
        "colab_type": "code",
        "colab": {},
        "outputId": "b4146e64-74ba-42a5-ca97-67d8d46af648"
      },
      "source": [
        "%reset_selective -f \"^num_spaces$|^num_prices$|^env$|^V$|^pi$|^gamma$|^theta$\"\n",
        "env = CarPark(num_spaces=10, num_prices=4)\n",
        "gamma = 0.9\n",
        "theta = 0.1\n",
        "V, pi = value_iteration(env, gamma, theta)\n",
        "tools.plot(V, pi)"
      ],
      "execution_count": 0,
      "outputs": [
        {
          "output_type": "display_data",
          "data": {
            "image/png": "[encoded data removed]",
            "text/plain": [
              "<Figure size 900x360 with 3 Axes>"
            ]
          },
          "metadata": {
            "tags": []
          }
        }
      ]
    },
    {
      "cell_type": "markdown",
      "metadata": {
        "id": "qB7vJUlwI5Ee",
        "colab_type": "text"
      },
      "source": [
        "The value function (rounded to one decimal place) and policy against the answer below:<br>\n",
        "State $\\quad\\quad$    Value $\\quad\\quad$ Action<br>\n",
        "0 $\\quad\\quad\\quad\\;$        81.6 $\\quad\\quad\\;$ 0<br>\n",
        "1 $\\quad\\quad\\quad\\;$        83.3 $\\quad\\quad\\;$ 0<br>\n",
        "2 $\\quad\\quad\\quad\\;$        85.0 $\\quad\\quad\\;$ 0<br>\n",
        "3 $\\quad\\quad\\quad\\;$        86.8 $\\quad\\quad\\;$ 0<br>\n",
        "4 $\\quad\\quad\\quad\\;$        88.5 $\\quad\\quad\\;$ 0<br>\n",
        "5 $\\quad\\quad\\quad\\;$        90.2 $\\quad\\quad\\;$ 0<br>\n",
        "6 $\\quad\\quad\\quad\\;$        91.7 $\\quad\\quad\\;$ 0<br>\n",
        "7 $\\quad\\quad\\quad\\;$        93.1 $\\quad\\quad\\;$ 0<br>\n",
        "8 $\\quad\\quad\\quad\\;$        94.3 $\\quad\\quad\\;$ 0<br>\n",
        "9 $\\quad\\quad\\quad\\;$        95.3 $\\quad\\quad\\;$ 3<br>\n",
        "10 $\\quad\\quad\\;\\;\\,\\,$      89.5 $\\quad\\quad\\;$ 3<br>"
      ]
    },
    {
      "cell_type": "code",
      "metadata": {
        "id": "sr6pduFTI5Ef",
        "colab_type": "code",
        "colab": {}
      },
      "source": [
        "def value_iteration2(env, gamma, theta):\n",
        "    V = np.zeros(len(env.S))\n",
        "    pi = np.ones((len(env.S), len(env.A))) / len(env.A)\n",
        "    while True:\n",
        "        delta = 0\n",
        "        for s in env.S:\n",
        "            v = V[s]\n",
        "            q_greedify_policy(env, V, pi, s, gamma)\n",
        "            bellman_update(env, V, pi, s, gamma)\n",
        "            delta = max(delta, abs(v - V[s]))\n",
        "        if delta < theta:\n",
        "            break\n",
        "    return V, pi"
      ],
      "execution_count": 0,
      "outputs": []
    },
    {
      "cell_type": "code",
      "metadata": {
        "id": "imctD07sI5Ek",
        "colab_type": "code",
        "colab": {},
        "outputId": "2a66fbdc-a788-4ffe-846a-97aa5be8a929"
      },
      "source": [
        "%reset_selective -f \"^num_spaces$|^num_prices$|^env$|^V$|^pi$|^gamma$|^theta$\"\n",
        "env = CarPark(num_spaces=10, num_prices=4)\n",
        "gamma = 0.9\n",
        "theta = 0.1\n",
        "V, pi = value_iteration2(env, gamma, theta)\n",
        "tools.plot(V, pi)"
      ],
      "execution_count": 0,
      "outputs": [
        {
          "output_type": "display_data",
          "data": {
            "image/png": "[encoded data removed]",
            "text/plain": [
              "<Figure size 900x360 with 3 Axes>"
            ]
          },
          "metadata": {
            "tags": []
          }
        }
      ]
    },
    {
      "cell_type": "code",
      "metadata": {
        "id": "_s-jW8RQI5En",
        "colab_type": "code",
        "colab": {}
      },
      "source": [
        ""
      ],
      "execution_count": 0,
      "outputs": []
    }
  ]
}